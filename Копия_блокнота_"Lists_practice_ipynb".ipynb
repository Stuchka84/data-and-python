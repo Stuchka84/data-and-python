{
  "nbformat": 4,
  "nbformat_minor": 0,
  "metadata": {
    "colab": {
      "provenance": [],
      "include_colab_link": true
    },
    "kernelspec": {
      "name": "python3",
      "display_name": "Python 3"
    },
    "language_info": {
      "name": "python"
    }
  },
  "cells": [
    {
      "cell_type": "markdown",
      "metadata": {
        "id": "view-in-github",
        "colab_type": "text"
      },
      "source": [
        "<a href=\"https://colab.research.google.com/github/Stuchka84/data-and-python/blob/main/%D0%9A%D0%BE%D0%BF%D0%B8%D1%8F_%D0%B1%D0%BB%D0%BE%D0%BA%D0%BD%D0%BE%D1%82%D0%B0_%22Lists_practice_ipynb%22.ipynb\" target=\"_parent\"><img src=\"https://colab.research.google.com/assets/colab-badge.svg\" alt=\"Open In Colab\"/></a>"
      ]
    },
    {
      "cell_type": "markdown",
      "metadata": {
        "id": "Z-M-RCWATK71"
      },
      "source": [
        "# Lists\n",
        "\n",
        "Often we need to store a number of single items of data together so that they can be processed together. This might be because all the data refers to one person (e.g. name, age, gender, etc) OR it might be because we have a set of data (e.g. all the categories that a notice relates to)\n",
        "\n",
        "Python has a range of data structures available including:\n",
        "*   lists  \n",
        "*   tuples  \n",
        "*   dictionaries  \n",
        "*   sets\n",
        "\n",
        "This worksheet looks at lists.\n",
        "\n",
        "## List\n",
        "A list is a set of related, individual data objects, that are indexed and can be processed as a whole, as subsets or as individual items.  Lists are stored, essentially, as contiguous items in memory so that access can be as quick as possible.  However, they are mutable (they can be changed after they are created and stored) and so those mechanisms need to include extra functionality to deal with changing list sizes.\n",
        "\n",
        "A list is created with a name and and equals sign, and all the elements in the list are within square brackets, separated by a comma.  If the element is a string, it will also be in speech marks:\n",
        "\n",
        "```\n",
        "categories_list = [\"well being\", \"local events\", \"community events\", \"families and parents\", \"jobs and volunteering\" ]\n",
        "```\n",
        "\n",
        "## List functions\n",
        "\n",
        "**length of list** - counts the elements in a list and returns the total\n",
        "\n",
        "len(categories_list)\n",
        "\n",
        "## List indexing\n",
        "To access individual elements in a list, we use their position.  Positioning is numbered from 0 at the beginning of the list, up to 1-length of list.The first element in the list is at position 0, the second at position 1 and so on.\n",
        "\n",
        "To make it easy to jump to the end of a list, a negative numbering system is used.  The last element is at position -1 (regardless of the length of the list), the second to last is a position -2, etc. So:  \n",
        "\n",
        "`categories_list[0]` - is the first element in the list  \n",
        "`categories_list[-1]` - is the last element in the list   \n",
        "\n",
        "Lists can be sliced using the position of the first element to include and the position after the last element to include.  So:\n",
        "\n",
        "`categories_list[2:4]` - will get the third and fourth element in the list\n",
        "`categories_list[-4::]` - will get the last 4 elements in the list\n",
        "`categories_list[:5]` - will get the first 5 elements in the list  \n",
        "\n",
        "To change an element in a list, assign a new value to the element at a given position:  \n",
        "\n",
        "`categories_list[1] = \"well-being\"` - changes the value of the second element in the list from its original value to its new value\n",
        "\n",
        "## List methods\n",
        "There is a full list of the methods (things a list can do to change itself) here:  https://www.w3schools.com/python/python_ref_list.asp\n",
        "\n",
        "A method is a function that is applied to an object such as a list.  So:\n",
        "\n",
        "`categories_list.append(\"learning\")` will add \"learning\" to the end of the list of categories.\n",
        "\n",
        "A method will change the list directly, so the instruction can stand on its own and doesn't need to store its result back in the original list.\n",
        "\n",
        "\n"
      ]
    },
    {
      "cell_type": "markdown",
      "metadata": {
        "id": "Ft0dXl7fUuaK"
      },
      "source": [
        "---\n",
        "### Exercise 1 - manage list of categories\n",
        "\n",
        "Write a function, **print_categories()** which will:\n",
        "*  create the list **categories_list** and assign the following list [\"well being\", \"local events\", \"community events\", \"families and parents\", \"jobs and volunteering\" ]\n",
        "*  print the length of the list `categories`\n",
        "*  print the list of categories one per line (using a for loop)\n",
        "\n",
        "## Test\n",
        "The expected output is:\n",
        "\n",
        "```\n",
        "5\n",
        "well being\n",
        "local events\n",
        "community events\n",
        "families and parents\n",
        "jobs and volunteering\n",
        "```"
      ]
    },
    {
      "cell_type": "code",
      "source": [
        "def print_categories():\n",
        "   categories_list = [\"well being\", \"local events\", \"community events\", \\\n",
        "                       \"families and parents\", \"jobs and volunteering\" ]\n",
        "   print(len(categories_list))\n",
        "   for i in range (5):\n",
        "     print(categories_list[i])\n",
        "\n",
        "print_categories()"
      ],
      "metadata": {
        "id": "QQSxE92IVlHg",
        "colab": {
          "base_uri": "https://localhost:8080/"
        },
        "outputId": "652ac759-c29f-4367-9e43-d38b2d02d521"
      },
      "execution_count": null,
      "outputs": [
        {
          "output_type": "stream",
          "name": "stdout",
          "text": [
            "5\n",
            "well being\n",
            "local events\n",
            "community events\n",
            "families and parents\n",
            "jobs and volunteering\n"
          ]
        }
      ]
    },
    {
      "cell_type": "markdown",
      "source": [
        "---\n",
        "### Exercise 2 - change item in list\n",
        "\n",
        "Write a function, **change_categories()** which will:\n",
        "*  create the same list (**categories list**)\n",
        "*  amend the **first item** in the list so it reads **well-being**\n",
        "*  print the list (either as it is or using a loop to print one item per line)\n",
        "*  return the list of categories\n",
        "\n",
        "**Expected Output**\n",
        "\n",
        "```\n",
        "['well-being','local events','community events','families and parents','jobs and volunteering']\n",
        "```"
      ],
      "metadata": {
        "id": "9YkKNJNrfYiy"
      }
    },
    {
      "cell_type": "code",
      "source": [
        "def change_categories():\n",
        "   categories_list = [\"well being\", \"local events\", \"community events\", \\\n",
        "                       \"families and parents\", \"jobs and volunteering\" ]\n",
        "   categories_list[0] = \"well-being\"\n",
        "   print(categories_list)\n",
        "   return categories_list\n",
        "\n",
        "change_categories()"
      ],
      "metadata": {
        "id": "ryPTakrmgeDj",
        "colab": {
          "base_uri": "https://localhost:8080/"
        },
        "outputId": "5c5e3324-f07e-4f52-d649-9c23ece16773"
      },
      "execution_count": 9,
      "outputs": [
        {
          "output_type": "stream",
          "name": "stdout",
          "text": [
            "['well-being', 'local events', 'community events', 'families and parents', 'jobs and volunteering']\n"
          ]
        },
        {
          "output_type": "execute_result",
          "data": {
            "text/plain": [
              "['well-being',\n",
              " 'local events',\n",
              " 'community events',\n",
              " 'families and parents',\n",
              " 'jobs and volunteering']"
            ]
          },
          "metadata": {},
          "execution_count": 9
        }
      ]
    },
    {
      "cell_type": "markdown",
      "source": [
        "---\n",
        "### Exercise 3 - add to list of categories\n",
        "\n",
        "Write a function, **add_category(new_category)** which will:  \n",
        "*  create the same `categories_list` again\n",
        "*  append the new category  (called **new_category**) to the list.  _Hint: use `.append(new_category)`_\n",
        "*  print the list of categories (using a loop)\n",
        "*  return the list of categories (e.g. `return categories_list`)\n",
        "\n",
        "**Add a function call** to run the function with the new category \"learning\" e.g:\n",
        "`updated_list = add_category(\"learning\")`\n",
        "\n",
        "## Test:\n",
        "\n",
        "The expected output is that the original list is printed with the new category added to the end.\n",
        "\n",
        "```\n",
        "well-being\n",
        "local events\n",
        "community events\n",
        "families and parents\n",
        "jobs and volunteering\n",
        "learning\n",
        "```"
      ],
      "metadata": {
        "id": "KpOFEmxJTnXk"
      }
    },
    {
      "cell_type": "code",
      "metadata": {
        "id": "P2HnCG9pb1BS",
        "colab": {
          "base_uri": "https://localhost:8080/"
        },
        "outputId": "a8194b97-3c8f-413b-8d63-289b7de6d019"
      },
      "source": [
        "def add_category(x):\n",
        "   categories_list = [\"well-being\", \"local events\", \"community events\", \\\n",
        "                       \"families and parents\", \"jobs and volunteering\" ]\n",
        "   categories_list.append(x)\n",
        "   for i in range (6):\n",
        "     print(categories_list[i])\n",
        "   return categories_list\n",
        "\n",
        "new_category = \"learning\"\n",
        "add_category(new_category)"
      ],
      "execution_count": 12,
      "outputs": [
        {
          "output_type": "stream",
          "name": "stdout",
          "text": [
            "well-being\n",
            "local events\n",
            "community events\n",
            "families and parents\n",
            "jobs and volunteering\n",
            "learning\n"
          ]
        },
        {
          "output_type": "execute_result",
          "data": {
            "text/plain": [
              "['well-being',\n",
              " 'local events',\n",
              " 'community events',\n",
              " 'families and parents',\n",
              " 'jobs and volunteering',\n",
              " 'learning']"
            ]
          },
          "metadata": {},
          "execution_count": 12
        }
      ]
    },
    {
      "cell_type": "markdown",
      "metadata": {
        "id": "yNWg08k6bXv0"
      },
      "source": [
        "---\n",
        "### Exercise 4 - create list of locations\n",
        "\n",
        "Write a function **show_locations()** which will:\n",
        "*  create a new list **notice_locations** and add at least 6 locations to the list e.g. Dartford, Medway, Maidstone, Edinburgh, Glasgow, ...\n",
        "*  print the list of locations using a loop\n",
        "\n",
        "## Test\n",
        "An example of the list might be:\n",
        "\n",
        "Edinburgh  \n",
        "Glasgow  \n",
        "Dartford  \n",
        "Medway  \n",
        "Maidstone  \n",
        "Motherwell  "
      ]
    },
    {
      "cell_type": "code",
      "source": [
        "def show_locations():\n",
        "   notice_locations = [\"Inverness\", \"Lybster\", \"Castletown\", \"Thurso\", \"Halkirk\", \"Bettyhill\"]\n",
        "   for i in range (6):\n",
        "     print(notice_locations[i])\n",
        "\n",
        "show_locations()"
      ],
      "metadata": {
        "id": "KGJJyOB3VyEK",
        "colab": {
          "base_uri": "https://localhost:8080/"
        },
        "outputId": "41a5ae4c-cee1-4510-8c04-eb0eb9c164d2"
      },
      "execution_count": 14,
      "outputs": [
        {
          "output_type": "stream",
          "name": "stdout",
          "text": [
            "Inverness\n",
            "Lybster\n",
            "Castletown\n",
            "Thurso\n",
            "Halkirk\n",
            "Bettyhill\n"
          ]
        }
      ]
    },
    {
      "cell_type": "markdown",
      "source": [
        "---\n",
        "### Exercise 5 - create list of preferences\n",
        "\n",
        "Write a function **filter_locations()** which will:\n",
        "*  create a new list **locations** and assign the list ['Dartford','Medway','Maidstone','Tunbridge Wells','Dover']\n",
        "*  create a second, empty, list **filtered_locations**\n",
        "*  iterate through the list of `locations` and if the location starts with the letter \"M\", append that location to the new list (**filtered_locations**)\n",
        "*  print the length of each list\n",
        "*  print the first and last items in the `filtered_locations` list\n",
        "*  return the `filtered_locations` list\n",
        "\n",
        "## Test\n",
        "\n",
        "The expected output is:\n",
        "\n",
        "```\n",
        "5\n",
        "2\n",
        "Medway  \n",
        "Maidstone\n",
        "```\n",
        "\n"
      ],
      "metadata": {
        "id": "ddvD-szJXcPo"
      }
    },
    {
      "cell_type": "code",
      "source": [
        "def filter_locations():\n",
        "   locations = ['Dartford','Medway','Maidstone','Tunbridge Wells','Dover']\n",
        "   filtered_locations = []\n",
        "   for i in range (5):\n",
        "     if locations[i].startswith(\"M\"):\n",
        "       filtered_locations.append(locations[i])\n",
        "   print(len(locations))\n",
        "   print(len(filtered_locations))\n",
        "   print(filtered_locations[0])\n",
        "   print(filtered_locations[-1])\n",
        "   return filtered_locations\n",
        "\n",
        "filter_locations()"
      ],
      "metadata": {
        "id": "JA68Wc96Xe9K",
        "colab": {
          "base_uri": "https://localhost:8080/"
        },
        "outputId": "6d239443-e4cf-49d0-e5f1-03380c4c2472"
      },
      "execution_count": 16,
      "outputs": [
        {
          "output_type": "stream",
          "name": "stdout",
          "text": [
            "5\n",
            "2\n",
            "Medway\n",
            "Maidstone\n"
          ]
        },
        {
          "output_type": "execute_result",
          "data": {
            "text/plain": [
              "['Medway', 'Maidstone']"
            ]
          },
          "metadata": {},
          "execution_count": 16
        }
      ]
    },
    {
      "cell_type": "markdown",
      "source": [
        "---\n",
        "### Exercise 6 - is item in list or not?\n",
        "\n",
        "Write a function **is_in_lists()** which will:\n",
        "*  create a new list **all_locations** and with these locations:  Glasgow, Motherwell, Aberdeen, Stirling, Medway, Dartford, Dover\n",
        "*  create a second list **notice_locations** and assign this set of locations:  Dartford, Medway, Aberdeen\n",
        "*  check whether Medway is in both lists and print either \"Medway is in both lists\", or \"Medway is in one list\", or \"Medway is not in either list\", as appropriate.\n",
        "\n",
        "## Test 1\n",
        "Follow the instructions above.  The expected output is:  \n",
        "`Medway is in both lists`\n",
        "\n",
        "## Test 2\n",
        "Remove Medway from the notice_locations list and run the code again.  The expected output is:  \n",
        "`Medway is in one list`\n",
        "\n",
        "## Test 3\n",
        "Remove Medway from the all_locations list and run the code again.  The expected output is:  \n",
        "`Medway is not in either list`"
      ],
      "metadata": {
        "id": "o1R8Tp4zlm-b"
      }
    },
    {
      "cell_type": "code",
      "source": [
        "def is_in_lists():\n",
        "   all_locations = [\"Glasgow\", \"Motherwell\", \"Aberdeen\", \"Stirling\",\\\n",
        "                    \"Dartford\", \"Dover\"]\n",
        "   notice_locations = [\"Dartford\", \"Medway\", \"Aberdeen\"]\n",
        "   if \"Medway\" in all_locations and \"Medway\" in notice_locations:\n",
        "     print(\"Medway is in both lists\")\n",
        "   elif \"Medway\" in all_locations or \"Medway\" in notice_locations:\n",
        "     print(\"Medway is in one list\")\n",
        "   else:\n",
        "     print(\"Medway is not in either list\")\n",
        "\n",
        "is_in_lists()"
      ],
      "metadata": {
        "id": "9fxDH5MIm3sW",
        "colab": {
          "base_uri": "https://localhost:8080/"
        },
        "outputId": "73c2d359-f2ce-43e5-a199-cdcedca00a6d"
      },
      "execution_count": 22,
      "outputs": [
        {
          "output_type": "stream",
          "name": "stdout",
          "text": [
            "Medway is in one list\n"
          ]
        }
      ]
    },
    {
      "cell_type": "markdown",
      "source": [
        "---\n",
        "### Exercise 7 - get the position of a named element in a list\n",
        "\n",
        "Write a function **get_position(category)** which will:\n",
        "*  create a new list **categories** with the following items: `['well being', 'local events', 'community events', 'families and parents', 'jobs and volunteering']`\n",
        "*  create a new variable called position and assign it the position of the element `\"community events\"` in the list  \n",
        "_Hint:  you can use `.index(category)`_\n",
        "*  return the `position`\n",
        "\n",
        "\n",
        "## Test:\n",
        "Following the instructions above the expected output is:  \n",
        "```\n",
        "2\n",
        "```"
      ],
      "metadata": {
        "id": "rxH09eBofm_j"
      }
    },
    {
      "cell_type": "code",
      "source": [
        "def get_position():\n",
        "   categories = ['well being', 'local events', 'community events', \\\n",
        "                 'families and parents', 'jobs and volunteering']\n",
        "   position = categories.index(\"community events\")\n",
        "   return position\n",
        "\n",
        "get_position()"
      ],
      "metadata": {
        "id": "uJ4N9d9eSTbg",
        "colab": {
          "base_uri": "https://localhost:8080/"
        },
        "outputId": "d3bd6a25-bc0e-49cd-996e-a2fb353a9f69"
      },
      "execution_count": 23,
      "outputs": [
        {
          "output_type": "execute_result",
          "data": {
            "text/plain": [
              "2"
            ]
          },
          "metadata": {},
          "execution_count": 23
        }
      ]
    },
    {
      "cell_type": "markdown",
      "source": [
        "---\n",
        "### Exercise 8 - remove an item from a list\n",
        "\n",
        "Write a function **remove_category(category)** which will:\n",
        "*  create a new list **categories** with the following items: `['well being', 'local events', 'community events', 'families and parents', 'jobs and volunteering']`\n",
        "*  remove the 'community events' element from the list (_Hint:_ there is a link above which will give you information about 'methods' that you can use with a list - look for a list method that removes items)\n",
        "*  print the list using a loop\n",
        "\n",
        "\n",
        "## Test:\n",
        "Following the instructions above the expected output is:  \n",
        "```\n",
        "well being\n",
        "local events\n",
        "families and parents\n",
        "jobs and volunteering\n",
        "```"
      ],
      "metadata": {
        "id": "VmjaMKEXPKba"
      }
    },
    {
      "cell_type": "code",
      "source": [
        "def remove_category():\n",
        "   categories = ['well being', 'local events', 'community events', \\\n",
        "                 'families and parents', 'jobs and volunteering']\n",
        "   categories.remove(\"community events\")\n",
        "   for i in range (len(categories)):\n",
        "     print(categories[i])\n",
        "\n",
        "remove_category()"
      ],
      "metadata": {
        "id": "e5cgRvmyfGiE",
        "colab": {
          "base_uri": "https://localhost:8080/"
        },
        "outputId": "1d143ca0-4f99-45a3-837f-9892221cbfd5"
      },
      "execution_count": 25,
      "outputs": [
        {
          "output_type": "stream",
          "name": "stdout",
          "text": [
            "well being\n",
            "local events\n",
            "families and parents\n",
            "jobs and volunteering\n"
          ]
        }
      ]
    },
    {
      "cell_type": "markdown",
      "source": [
        "---\n",
        "# List comprehension\n",
        "\n",
        "You can use a special format for creating lists so that rather than typing all items of the list individually, they will be generated using Python code.\n",
        "\n",
        "**Examples:**\n",
        "\n",
        "Generate a list of twelve 0s (\n",
        "\n",
        "`zero_list = [0 for x in range(12)]`\n",
        "\n",
        "Generate a list of the numbers from 0 to 49\n",
        "\n",
        "`fifty_list = [x for x in range(50)]`\n",
        "\n",
        "Generate a list of the first 10 square numbers\n",
        "\n",
        "`squares_list = [ x**2 for x in range(10)]`\n",
        "\n",
        "Generate a list of the numbers from 5 to 15\n",
        "\n",
        "`numbers_list = [x for x in range(5, 16)]`\n",
        "\n",
        "Think about how these lists are being generated.  The first part describes what x will look like (always 0, the current number or the square of the current number)  the part `for x in range(...)` describes the number of items in the list and can sometimes be used to determine value.\n",
        "\n",
        "Use the code box below to see what the output of the lists suggested above would look like."
      ],
      "metadata": {
        "id": "ozooDZjhRI_C"
      }
    },
    {
      "cell_type": "code",
      "source": [
        "generated_list =\n",
        "print(generated_list)"
      ],
      "metadata": {
        "id": "rwjLa22yRvlw"
      },
      "execution_count": null,
      "outputs": []
    },
    {
      "cell_type": "markdown",
      "source": [
        "---\n",
        "### Exercise 9 - generate a list of numbers from 1 to 10\n",
        "\n",
        "Write a function **generate_number_list()** that will:\n",
        "\n",
        "*  use list comprehension techniques to create a list of all the whole numbers between 1 and 10\n",
        "*  use a for loop to print the list one number per line\n"
      ],
      "metadata": {
        "id": "PVAdsXHLQqZt"
      }
    },
    {
      "cell_type": "code",
      "source": [
        "def generate_number_list():\n",
        "   ten_list = [x for x in range(1,11)]\n",
        "   for i in range (len(ten_list)):\n",
        "     print(ten_list[i])\n",
        "\n",
        "generate_number_list()"
      ],
      "metadata": {
        "id": "6jqnXL0rUiZj",
        "colab": {
          "base_uri": "https://localhost:8080/"
        },
        "outputId": "bf67d6a2-d4e4-419a-ed45-a4a81dd9e3cb"
      },
      "execution_count": 26,
      "outputs": [
        {
          "output_type": "stream",
          "name": "stdout",
          "text": [
            "1\n",
            "2\n",
            "3\n",
            "4\n",
            "5\n",
            "6\n",
            "7\n",
            "8\n",
            "9\n",
            "10\n"
          ]
        }
      ]
    },
    {
      "cell_type": "markdown",
      "source": [
        "---\n",
        "### Exercise 10 - generate a list of the letters between A and Z using the ord() function (CHALLENGING)\n",
        "\n",
        "Computers recognise letter as number codes (ASCII codes).  In this coding system the letter A is coded 65, the letter Z is coded 90 and all the other capital letters have the numbers in between, in order.\n",
        "\n",
        "To get the letter, use chr(code)  e.g. chr(65) will give A, chr(68) will give D\n",
        "\n",
        "Write a function **generate_alphabet()** that will:\n",
        "\n",
        "*  use list comprehension to create the list of letters from A to Z using the numbers from 65 to 90 and converting the number (x) to its letter using chr(x)\n",
        "*  print the list to show the alphabet"
      ],
      "metadata": {
        "id": "O0NS2nwuUi73"
      }
    },
    {
      "cell_type": "code",
      "source": [
        "def generate_alphabet():\n",
        "   number_list = [x for x in range(65,91)]\n",
        "   alphabet_list = []\n",
        "   for i in range (len(number_list)):\n",
        "     alphabet_list.append(chr(number_list[i]))\n",
        "   print(alphabet_list)\n",
        "\n",
        "generate_alphabet()"
      ],
      "metadata": {
        "id": "8zsQQkNDV9ur",
        "colab": {
          "base_uri": "https://localhost:8080/"
        },
        "outputId": "33483de4-a59a-4184-de30-2f0036572c32"
      },
      "execution_count": 27,
      "outputs": [
        {
          "output_type": "stream",
          "name": "stdout",
          "text": [
            "['A', 'B', 'C', 'D', 'E', 'F', 'G', 'H', 'I', 'J', 'K', 'L', 'M', 'N', 'O', 'P', 'Q', 'R', 'S', 'T', 'U', 'V', 'W', 'X', 'Y', 'Z']\n"
          ]
        }
      ]
    }
  ]
}
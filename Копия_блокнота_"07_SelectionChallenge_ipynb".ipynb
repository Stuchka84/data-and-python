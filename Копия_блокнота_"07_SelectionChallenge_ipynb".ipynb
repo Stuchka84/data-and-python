{
  "nbformat": 4,
  "nbformat_minor": 0,
  "metadata": {
    "colab": {
      "provenance": [],
      "include_colab_link": true
    },
    "kernelspec": {
      "name": "python3",
      "display_name": "Python 3"
    }
  },
  "cells": [
    {
      "cell_type": "markdown",
      "metadata": {
        "id": "view-in-github",
        "colab_type": "text"
      },
      "source": [
        "<a href=\"https://colab.research.google.com/github/Stuchka84/data-and-python/blob/main/%D0%9A%D0%BE%D0%BF%D0%B8%D1%8F_%D0%B1%D0%BB%D0%BE%D0%BA%D0%BD%D0%BE%D1%82%D0%B0_%2207_SelectionChallenge_ipynb%22.ipynb\" target=\"_parent\"><img src=\"https://colab.research.google.com/assets/colab-badge.svg\" alt=\"Open In Colab\"/></a>"
      ]
    },
    {
      "cell_type": "markdown",
      "metadata": {
        "id": "-QxAKPD8DZfj"
      },
      "source": [
        "# Three selection challenges\n",
        "\n",
        "---\n"
      ]
    },
    {
      "cell_type": "markdown",
      "metadata": {
        "id": "2KYUALILDcM9"
      },
      "source": [
        "### Challenge 1 - password format  \n",
        "\n",
        "Write a function called **check_password_valid()** which will check the validity of a **password** input by a user.\n",
        "\n",
        "Rules for a valid password are:  \n",
        "\n",
        "*  At least 1 letter between [a-z] and 1 letter between [A-Z].\n",
        "*  At least 1 number between [0-9].\n",
        "*  At least 1 character from [$#@].\n",
        "*  Minimum length 6 characters.\n",
        "*  Maximum length 16 characters.  \n",
        "\n",
        "Let the user know if the `password` they have typed is valid and, if not, where was the first error.\n",
        "\n",
        "*Hint:  to test if a set of characters is present in a password String, you can use re.search('[character set]', `password`)*  \n",
        "\n",
        "Example:   \n",
        "*if re.search('[a-z]',`password`):*    \n",
        "if there is at least 1 character a-z in the password, re.search will not be None.\n",
        "\n",
        "**re** is a pre-written Python function for pattern searching in Strings.  It has been imported for you in the code cell below.  "
      ]
    },
    {
      "cell_type": "code",
      "metadata": {
        "id": "8wBK9IA4BO2e",
        "colab": {
          "base_uri": "https://localhost:8080/"
        },
        "outputId": "be073da4-2803-45c5-af02-4e539b8a0b46"
      },
      "source": [
        "import re\n",
        "\n",
        "# add your check_PasswordValid() function and call below here\n",
        "def check_password_valid():\n",
        "   password = input(\"input your password here \")\n",
        "   if re.search('[a-z]',password) != None and \\\n",
        "      re.search('[A-Z]',password) != None and \\\n",
        "      re.search('[0-9]',password) != None and \\\n",
        "      re.search('[$#@]',password) != None and \\\n",
        "      len(password) >= 6 and \\\n",
        "      len(password) <= 16:\n",
        "      print(\"Your password is valid!\")\n",
        "   elif re.search('[a-z]',password) == None:\n",
        "      print(\"You have a problem with letters in lower case!\")\n",
        "   elif re.search('[A-Z]',password) == None:\n",
        "      print(\"You have a problem with letters in upper case!\")\n",
        "   elif re.search('[0-9]',password) == None:\n",
        "      print(\"You have a problem with numbers!\")\n",
        "   elif re.search('[$#@]',password) == None:\n",
        "      print(\"You have a problem with symbols!\")\n",
        "   elif len(password) < 6:\n",
        "      print(\"Your password is so small!\")\n",
        "   else:\n",
        "      print(\"Your password is so big!\")\n",
        "\n",
        "check_password_valid()\n",
        "\n"
      ],
      "execution_count": 5,
      "outputs": [
        {
          "output_type": "stream",
          "name": "stdout",
          "text": [
            "input your password here 234r\n",
            "You have a problem with letters in upper case!\n"
          ]
        }
      ]
    },
    {
      "cell_type": "markdown",
      "metadata": {
        "id": "f0R4GYTEFQS-"
      },
      "source": [
        "---\n",
        "### Challenge 2 - triangle shape  \n",
        "\n",
        "Write a function called **evaluate_triangle_shape()** which will check if a triangle is equilateral, isosceles or scalene, based on the three side lengths entered by a user (**x**, **y** and **z**.\n",
        "\n",
        "An equilateral triangle is a triangle in which all three sides are equal.\n",
        "A scalene triangle is a triangle that has three unequal sides.\n",
        "An isosceles triangle is a triangle with (at least) two equal sides.\n",
        "\n",
        "For example:  \n",
        "A triange with side lengths                                 \n",
        "x: 6                                                                    \n",
        "y: 8                                                                    \n",
        "z: 12                                                                   \n",
        "is a *Scalene triangle*\n",
        "\n",
        "A triangle with side lengths\n",
        "x:5  \n",
        "y:3   \n",
        "z:5  \n",
        "is an *Isosceles triangle*"
      ]
    },
    {
      "cell_type": "code",
      "metadata": {
        "id": "oBgl4ro1DVL0",
        "colab": {
          "base_uri": "https://localhost:8080/"
        },
        "outputId": "90440a6a-a26c-4268-f635-d889f51d9b18"
      },
      "source": [
        "def evaluate_triangle_shape():\n",
        "   x = int(input(\"input a first side length \"))\n",
        "   y = int(input(\"input a second side length \"))\n",
        "   z = int(input(\"input a third side length \"))\n",
        "   if x == y and x == z:\n",
        "     print(\"It`s an equaliteral triangle!\")\n",
        "   elif x == y or y == z or x == z:\n",
        "     print(\"It`s an isosceles triangle!\")\n",
        "   else:\n",
        "     print(\"It`s a scalene triangle!\")\n",
        "\n",
        "evaluate_triangle_shape()"
      ],
      "execution_count": 6,
      "outputs": [
        {
          "output_type": "stream",
          "name": "stdout",
          "text": [
            "input a first side length 3\n",
            "input a second side length 4\n",
            "input a third side length 4\n",
            "It`s an isosceles triangle!\n"
          ]
        }
      ]
    },
    {
      "cell_type": "markdown",
      "metadata": {
        "id": "hr2EotkqG33l"
      },
      "source": [
        "---\n",
        "### Challenge 3 - which season\n",
        "\n",
        "Write a function called **determine_season()** which will ask the user to enter two integers representing a **month** and **day** and prints the season for that month and day.\n",
        "\n",
        "Note:  for this exercise the season dates are:\n",
        "*  Winter December 21 to March 20    \n",
        "*  Spring March 21 to June 20  \n",
        "*  Summer June 21 to September 20  \n",
        "*  Autumn September 21 to December 20\n",
        "\n",
        "Test input:  \n",
        "Input the month (e.g. January, February etc.): 7                     \n",
        "Input the day: 31                                                       \n",
        "\n",
        "Expected output:  \n",
        "Season is summer\n",
        "\n",
        "*Note: this will require multiple and or or operators and you should use brackets to help Python know which operations to do first*  \n",
        "\n",
        "*For an extra challenge you can check that the day is valid for the month*"
      ]
    },
    {
      "cell_type": "code",
      "metadata": {
        "id": "cvbfz8nzG4IL",
        "colab": {
          "base_uri": "https://localhost:8080/"
        },
        "outputId": "83bdeca4-7429-48cf-ebb8-541607f6d328"
      },
      "source": [
        "def determine_season():\n",
        "   month = int(input(\"Input the month \"))\n",
        "   day = int(input(\"Input the day \"))\n",
        "   if month < 1 or month > 12:\n",
        "     print(\"The month is not valid!\")\n",
        "   elif ((month == 1 or month == 3 or month == 5 or month == 7 or month == 8 \\\n",
        "       or month == 10 or month == 12) and (day > 31 or day < 0))or \\\n",
        "       ((month == 4 or month == 6 or month == 9 or month == 11) and \\\n",
        "       (day > 30 or day < 0)) or (month == 2 and (day > 29 or day < 0)):\n",
        "     print(\"The day is not valid!\")\n",
        "   elif (month == 1 or month == 2 or (month == 12 and day >= 21) or (month == 3\\\n",
        "       and day <= 21)):\n",
        "     print(\"Season is winter\")\n",
        "   elif (month == 4 or month == 5 or (month == 3 and day >= 21) or (month == 6 \\\n",
        "       and day <= 21)):\n",
        "     print(\"Season is spring\")\n",
        "   elif (month == 7 or month == 8 or (month == 6 and day >= 21) or (month == 9 \\\n",
        "       and day <= 21)):\n",
        "     print(\"Season is summer\")\n",
        "   else:\n",
        "     print(\"Season is autumn\")\n",
        "\n",
        "determine_season()"
      ],
      "execution_count": 13,
      "outputs": [
        {
          "output_type": "stream",
          "name": "stdout",
          "text": [
            "Input the month 32\n",
            "Input the day 6\n",
            "The month is not valid!\n"
          ]
        }
      ]
    }
  ]
}